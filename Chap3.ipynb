{
 "cells": [
  {
   "cell_type": "code",
   "execution_count": 9,
   "metadata": {},
   "outputs": [
    {
     "data": {
      "text/plain": [
       "('foo', [1, 2, 3], True)"
      ]
     },
     "execution_count": 9,
     "metadata": {},
     "output_type": "execute_result"
    }
   ],
   "source": [
    "nested_tup = (4,5,6),(7,8)\n",
    "nested_tup\n",
    "\n",
    "tup = tuple('string')\n",
    "tup[0]\n",
    "\n",
    "tup = tuple(['foo',[1,2],True])\n",
    "#tup[2] = False\n",
    "\n",
    "tup[1].append(3)\n",
    "tup\n",
    "\n"
   ]
  },
  {
   "cell_type": "code",
   "execution_count": 11,
   "metadata": {},
   "outputs": [
    {
     "data": {
      "text/plain": [
       "6"
      ]
     },
     "execution_count": 11,
     "metadata": {},
     "output_type": "execute_result"
    }
   ],
   "source": [
    "#tupleの分解\n",
    "tup = (4,5,6)\n",
    "a, b, c = tup\n",
    "b\n",
    "\n",
    "tup = 4,5,(6,7)\n",
    "a,b,(c,d) = tup\n",
    "c"
   ]
  },
  {
   "cell_type": "code",
   "execution_count": 13,
   "metadata": {},
   "outputs": [
    {
     "data": {
      "text/plain": [
       "(2, 1)"
      ]
     },
     "execution_count": 13,
     "metadata": {},
     "output_type": "execute_result"
    }
   ],
   "source": [
    "#変数の入れ替え\n",
    "#tmpとかを使わなくても入れ替えができる\n",
    "a,b = 1,2\n",
    "a,b = b,a\n",
    "a,b"
   ]
  },
  {
   "cell_type": "code",
   "execution_count": 15,
   "metadata": {},
   "outputs": [
    {
     "name": "stdout",
     "output_type": "stream",
     "text": [
      "a=1,b=2,c=3\n",
      "a=4,b=5,c=6\n",
      "a=7,b=8,c=9\n"
     ]
    }
   ],
   "source": [
    "seq = [(1,2,3),(4,5,6),(7,8,9)]\n",
    "for a,b,c in seq:\n",
    "    print(f'a={a},b={b},c={c}')"
   ]
  },
  {
   "cell_type": "code",
   "execution_count": 18,
   "metadata": {},
   "outputs": [
    {
     "data": {
      "text/plain": [
       "[3, 4, 5]"
      ]
     },
     "execution_count": 18,
     "metadata": {},
     "output_type": "execute_result"
    }
   ],
   "source": [
    "#tupleを任意の長さで受け取る\n",
    "values = 1,2,3,4,5\n",
    "a,b,*rest = values\n",
    "rest"
   ]
  },
  {
   "cell_type": "code",
   "execution_count": 21,
   "metadata": {},
   "outputs": [
    {
     "data": {
      "text/plain": [
       "['He', 'saw', 'six', 'small', 'foxes']"
      ]
     },
     "execution_count": 21,
     "metadata": {},
     "output_type": "execute_result"
    }
   ],
   "source": [
    "#list のソート\n",
    "b = ['saw','small','He','foxes','six']\n",
    "b.sort(key=len)\n",
    "b"
   ]
  },
  {
   "cell_type": "code",
   "execution_count": 25,
   "metadata": {},
   "outputs": [
    {
     "data": {
      "text/plain": [
       "[1, 2, 2, 2, 3, 4, 6, 7]"
      ]
     },
     "execution_count": 25,
     "metadata": {},
     "output_type": "execute_result"
    }
   ],
   "source": [
    "import bisect\n",
    "c = [1,2,2,2,3,4,7]\n",
    "bisect.bisect(c,5)\n",
    "bisect.insort(c,6)\n",
    "c"
   ]
  },
  {
   "cell_type": "code",
   "execution_count": 28,
   "metadata": {},
   "outputs": [
    {
     "data": {
      "text/plain": [
       "[7, 2, 3, 6, 3, 5, 6, 0, 1]"
      ]
     },
     "execution_count": 28,
     "metadata": {},
     "output_type": "execute_result"
    }
   ],
   "source": [
    "#スライス\n",
    "seq = [7,2,3,7,5,6,0,1]\n",
    "seq[1:5]\n",
    "seq[3:4]=[6,3]\n",
    "seq"
   ]
  },
  {
   "cell_type": "code",
   "execution_count": 31,
   "metadata": {},
   "outputs": [
    {
     "data": {
      "text/plain": [
       "['E', 'L', 'L']"
      ]
     },
     "execution_count": 31,
     "metadata": {},
     "output_type": "execute_result"
    }
   ],
   "source": [
    "str_list = list('HELLO!')\n",
    "str_list[-5:-2]"
   ]
  },
  {
   "cell_type": "code",
   "execution_count": 34,
   "metadata": {},
   "outputs": [
    {
     "data": {
      "text/plain": [
       "[('foo', 'one', False), ('bar', 'two', True)]"
      ]
     },
     "execution_count": 34,
     "metadata": {},
     "output_type": "execute_result"
    }
   ],
   "source": [
    "#zip\n",
    "seq1 = ['foo','bar','baz']\n",
    "seq2 = ['one','two','three']\n",
    "zipped = zip(seq1,seq2)\n",
    "list(zipped)\n",
    "\n",
    "seq3 = [False,True]\n",
    "list(zip(seq1,seq2,seq3))\n"
   ]
  },
  {
   "cell_type": "code",
   "execution_count": 36,
   "metadata": {},
   "outputs": [
    {
     "name": "stdout",
     "output_type": "stream",
     "text": [
      "0:foo,one\n",
      "1:bar,two\n",
      "2:baz,three\n"
     ]
    }
   ],
   "source": [
    "#zipで複数のシーケンスを同時に逐次処理\n",
    "for i ,(a,b) in enumerate(zip(seq1,seq2)):\n",
    "    print(f'{i}:{a},{b}')"
   ]
  },
  {
   "cell_type": "code",
   "execution_count": 44,
   "metadata": {},
   "outputs": [
    {
     "data": {
      "text/plain": [
       "'anoter value'"
      ]
     },
     "execution_count": 44,
     "metadata": {},
     "output_type": "execute_result"
    }
   ],
   "source": [
    "#dict\n",
    "d1 = {'a':'some value','b':[1,2,3,4]}\n",
    "d1[7] = 'an integer'\n",
    "d1[5] = 'some value'\n",
    "d1['dummy']='anoter value'\n",
    "del d1[5]\n",
    "ret = d1.pop('dummy')\n",
    "ret"
   ]
  },
  {
   "cell_type": "code",
   "execution_count": 49,
   "metadata": {},
   "outputs": [
    {
     "data": {
      "text/plain": [
       "{'a': 'some value', 'b': 'foo', 7: 'an integer', 'c': 12}"
      ]
     },
     "execution_count": 49,
     "metadata": {},
     "output_type": "execute_result"
    }
   ],
   "source": [
    "list(d1.keys())\n",
    "list(d1.values())\n",
    "d1.update({'b':'foo','c':12})\n",
    "d1"
   ]
  },
  {
   "cell_type": "code",
   "execution_count": 51,
   "metadata": {},
   "outputs": [
    {
     "data": {
      "text/plain": [
       "{'a': ['apple', 'atom'], 'b': ['bat', 'bar', 'book']}"
      ]
     },
     "execution_count": 51,
     "metadata": {},
     "output_type": "execute_result"
    }
   ],
   "source": [
    "words = ['apple','bat','bar','atom','book']\n",
    "by_letter = {}\n",
    "\n",
    "for word in words:\n",
    "    letter = word[0]\n",
    "    if letter not in by_letter:\n",
    "        by_letter[letter] = [word]\n",
    "    else:\n",
    "        by_letter[letter].append(word)\n",
    "        \n",
    "        \n",
    "by_letter"
   ]
  },
  {
   "cell_type": "code",
   "execution_count": 54,
   "metadata": {},
   "outputs": [
    {
     "data": {
      "text/plain": [
       "{'a': ['apple', 'atom'], 'b': ['bat', 'bar', 'book']}"
      ]
     },
     "execution_count": 54,
     "metadata": {},
     "output_type": "execute_result"
    }
   ],
   "source": [
    "words = ['apple','bat','bar','atom','book']\n",
    "by_letter = {}\n",
    "\n",
    "for word in words:\n",
    "    letter = word[0]\n",
    "    by_letter.setdefault(letter,[]).append(word)\n",
    "\n",
    "by_letter"
   ]
  },
  {
   "cell_type": "code",
   "execution_count": 57,
   "metadata": {},
   "outputs": [
    {
     "data": {
      "text/plain": [
       "defaultdict(list, {'a': ['apple', 'atom'], 'b': ['bat', 'bar', 'book']})"
      ]
     },
     "execution_count": 57,
     "metadata": {},
     "output_type": "execute_result"
    }
   ],
   "source": [
    "from collections import defaultdict\n",
    "words = ['apple','bat','bar','atom','book']\n",
    "by_letter = {}\n",
    "by_letter = defaultdict(list)\n",
    "for word in words:\n",
    "    by_letter[word[0]].append(word)\n",
    "    \n",
    "by_letter\n"
   ]
  },
  {
   "cell_type": "code",
   "execution_count": 62,
   "metadata": {},
   "outputs": [
    {
     "data": {
      "text/plain": [
       "2528502973977326415"
      ]
     },
     "execution_count": 62,
     "metadata": {},
     "output_type": "execute_result"
    }
   ],
   "source": [
    "#ディクショナリのキーになりえるかどうかはhash関数で調べられる\n",
    "hash('string')\n",
    "# hash([1,2,3]) #listはハッシュにできない\n",
    "hash(tuple([1,2,3])) #tupleにすればOK\n",
    "#そもそもhash関数って何してるの？"
   ]
  },
  {
   "cell_type": "code",
   "execution_count": 68,
   "metadata": {},
   "outputs": [
    {
     "data": {
      "text/plain": [
       "{3, 4, 5}"
      ]
     },
     "execution_count": 68,
     "metadata": {},
     "output_type": "execute_result"
    }
   ],
   "source": [
    "#set\n",
    "set([2,2,2,3,4,1,2])\n",
    "a = {1,2,3,4,5}\n",
    "b = {3,4,5,6,7,8}\n",
    "\n",
    "a.union(b)\n",
    "a|b\n",
    "\n",
    "a.intersection(b)\n",
    "a & b\n"
   ]
  },
  {
   "cell_type": "code",
   "execution_count": 75,
   "metadata": {},
   "outputs": [
    {
     "data": {
      "text/plain": [
       "{'Python': 5, 'a': 0, 'as': 1, 'bat': 2, 'car': 3, 'dove': 4}"
      ]
     },
     "execution_count": 75,
     "metadata": {},
     "output_type": "execute_result"
    }
   ],
   "source": [
    "#内包表記\n",
    "# [expr for val in collection if condition]\n",
    "strings = ['a','as','bat','car','dove','Python']\n",
    "[x.upper() for x in strings if len(x)>2]\n",
    "\n",
    "#dict_comp = {key-expr : value-expr for value in collection if condition}\n",
    "unique_lengths = {len(x) for x in strings}\n",
    "unique_lengths\n",
    "set(map(len,strings))\n",
    "\n",
    "loc_mapping = {val : index for index, val in enumerate(strings)}\n",
    "loc_mapping\n"
   ]
  },
  {
   "cell_type": "code",
   "execution_count": 79,
   "metadata": {},
   "outputs": [
    {
     "data": {
      "text/plain": [
       "['Steven']"
      ]
     },
     "execution_count": 79,
     "metadata": {},
     "output_type": "execute_result"
    }
   ],
   "source": [
    "#ネストした内包表記\n",
    "all_data = [['John','Emily','Michael','Mary','Steven'],\n",
    "            ['Maria','Juan','Javier','Natalia','Pilar']]\n",
    "\n",
    "names_of_interest = []\n",
    "for names in all_data:\n",
    "    enough_es = [name for name in names if name.count('e') >= 2]\n",
    "    names_of_interest.extend(enough_es)\n",
    "names_of_interest"
   ]
  },
  {
   "cell_type": "code",
   "execution_count": 81,
   "metadata": {},
   "outputs": [
    {
     "data": {
      "text/plain": [
       "['Steven']"
      ]
     },
     "execution_count": 81,
     "metadata": {},
     "output_type": "execute_result"
    }
   ],
   "source": [
    "#???\n",
    "result = [name for names in all_data for name in names if name.count('e') >=2]\n",
    "result"
   ]
  },
  {
   "cell_type": "code",
   "execution_count": 88,
   "metadata": {
    "collapsed": true
   },
   "outputs": [],
   "source": [
    "some_tuples = [(1,2,3),(4,5,6),(7,8,9)]\n",
    "flattend = [x for tup in some_tuples for x in tup]\n",
    "flattend\n",
    "\n",
    "for tup in some_tuples:\n",
    "    for x in tup:\n",
    "        flattend.append(x)"
   ]
  },
  {
   "cell_type": "code",
   "execution_count": 90,
   "metadata": {},
   "outputs": [
    {
     "data": {
      "text/plain": [
       "0.06363636363636363"
      ]
     },
     "execution_count": 90,
     "metadata": {},
     "output_type": "execute_result"
    }
   ],
   "source": [
    "#関数\n",
    "def my_function(x,y,z=1.5):\n",
    "    if z>1:\n",
    "        return z*(x+y)\n",
    "    else:\n",
    "        return z/(x+y)\n",
    "    \n",
    "my_function(5,6,z=0.7)"
   ]
  },
  {
   "cell_type": "code",
   "execution_count": 92,
   "metadata": {},
   "outputs": [
    {
     "data": {
      "text/plain": [
       "[]"
      ]
     },
     "execution_count": 92,
     "metadata": {},
     "output_type": "execute_result"
    }
   ],
   "source": [
    "a = []\n",
    "def func():\n",
    "    for i in range(5):\n",
    "        a.append(i)\n",
    "a\n"
   ]
  },
  {
   "cell_type": "code",
   "execution_count": 94,
   "metadata": {},
   "outputs": [
    {
     "data": {
      "text/plain": [
       "['Alabama',\n",
       " 'Georgia',\n",
       " 'Georgia',\n",
       " 'Georgia',\n",
       " 'Florida',\n",
       " 'South    Carolina',\n",
       " 'West Virginia']"
      ]
     },
     "execution_count": 94,
     "metadata": {},
     "output_type": "execute_result"
    }
   ],
   "source": [
    "import re\n",
    "\n",
    "states = ['   Alabama','Georgia!','Georgia','georgia','FlOrIda','south    carolina###','West virginia?']\n",
    "\n",
    "def clean_strings(strings):\n",
    "    result =[]\n",
    "    for value in strings:\n",
    "        value = value.strip()\n",
    "        value = re.sub('[!#?]','',value)\n",
    "        value = value.title()\n",
    "        result.append(value)\n",
    "    return result\n",
    "\n",
    "clean_strings(states)"
   ]
  },
  {
   "cell_type": "code",
   "execution_count": 97,
   "metadata": {},
   "outputs": [
    {
     "name": "stdout",
     "output_type": "stream",
     "text": [
      "   Alabama\n",
      "Georgia\n",
      "Georgia\n",
      "georgia\n",
      "FlOrIda\n",
      "south    carolina\n",
      "West virginia\n"
     ]
    }
   ],
   "source": [
    "def remove_punctuation(value):\n",
    "    return re.sub('[!#?:]','',value)\n",
    "\n",
    "#関数のリストが持てるの面白い\n",
    "clean_ops = [str.strip, remove_punctuation, str.title]\n",
    "\n",
    "def clean_strings(strings,ops):\n",
    "    result = []\n",
    "    for value in strings:\n",
    "        for function in ops:\n",
    "            value = function(value)\n",
    "        result.append(value)\n",
    "        \n",
    "    return result\n",
    "\n",
    "clean_strings(states,clean_ops)\n",
    "\n",
    "for x in map(remove_punctuation,states):\n",
    "    print(x)"
   ]
  },
  {
   "cell_type": "code",
   "execution_count": 99,
   "metadata": {},
   "outputs": [
    {
     "data": {
      "text/plain": [
       "[8, 0, 2, 10, 12]"
      ]
     },
     "execution_count": 99,
     "metadata": {},
     "output_type": "execute_result"
    }
   ],
   "source": [
    "#lambda\n",
    "def apply_to_list(some_list,f):\n",
    "    return [f(x) for x in some_list]\n",
    "\n",
    "ints = [4,0,1,5,6]\n",
    "apply_to_list(ints,lambda x:x*2)"
   ]
  },
  {
   "cell_type": "code",
   "execution_count": 102,
   "metadata": {},
   "outputs": [
    {
     "data": {
      "text/plain": [
       "['aaaa', 'foo', 'abab', 'bar', 'card']"
      ]
     },
     "execution_count": 102,
     "metadata": {},
     "output_type": "execute_result"
    }
   ],
   "source": [
    "strings = ['foo','card','bar','aaaa','abab']\n",
    "strings.sort(key=lambda x: len(set(list(x))))\n",
    "strings"
   ]
  },
  {
   "cell_type": "code",
   "execution_count": 107,
   "metadata": {},
   "outputs": [
    {
     "name": "stdout",
     "output_type": "stream",
     "text": [
      "Generating squares from 1 to 100\n",
      "1 4 9 16 25 36 49 64 81 100 "
     ]
    }
   ],
   "source": [
    "#generator\n",
    "some_dict = {'a':1,'b':2,'c':3}\n",
    "\n",
    "dict_iterator = iter(some_dict)\n",
    "dict_iterator\n",
    "list(dict_iterator)\n",
    "\n",
    "def squares(n=10):\n",
    "    print(f'Generating squares from 1 to {n**2}')\n",
    "    for i in range(1,n+1):\n",
    "        yield i**2\n",
    "        \n",
    "gen = squares()\n",
    "gen\n",
    "for x in gen:\n",
    "    print(x,end=' ')"
   ]
  },
  {
   "cell_type": "code",
   "execution_count": 2,
   "metadata": {},
   "outputs": [
    {
     "data": {
      "text/plain": [
       "<generator object <genexpr> at 0x7f4b5446f7d8>"
      ]
     },
     "execution_count": 2,
     "metadata": {},
     "output_type": "execute_result"
    }
   ],
   "source": [
    "gen = (x**2 for x in range(100))\n",
    "gen"
   ]
  },
  {
   "cell_type": "code",
   "execution_count": 4,
   "metadata": {},
   "outputs": [
    {
     "data": {
      "text/plain": [
       "328350"
      ]
     },
     "execution_count": 4,
     "metadata": {},
     "output_type": "execute_result"
    }
   ],
   "source": [
    "sum(x**2 for x in range(100))"
   ]
  },
  {
   "cell_type": "code",
   "execution_count": 6,
   "metadata": {},
   "outputs": [
    {
     "data": {
      "text/plain": [
       "{0: 0, 1: 1, 2: 4, 3: 9, 4: 16}"
      ]
     },
     "execution_count": 6,
     "metadata": {},
     "output_type": "execute_result"
    }
   ],
   "source": [
    "dict((i,i**2)for i in range(5))"
   ]
  },
  {
   "cell_type": "code",
   "execution_count": 8,
   "metadata": {},
   "outputs": [
    {
     "name": "stdout",
     "output_type": "stream",
     "text": [
      "A ['Alan', 'Adam']\n",
      "W ['Wes', 'Will']\n",
      "A ['Albert']\n",
      "S ['Steven']\n"
     ]
    }
   ],
   "source": [
    "import itertools\n",
    "first_letter = lambda x:x[0]\n",
    "names = ['Alan','Adam','Wes','Will','Albert','Steven']\n",
    "for letter, names in itertools.groupby(names,first_letter):\n",
    "    print(letter,list(names)) #このnamesはジェネレータ"
   ]
  },
  {
   "cell_type": "code",
   "execution_count": 13,
   "metadata": {},
   "outputs": [
    {
     "data": {
      "text/plain": [
       "'something'"
      ]
     },
     "execution_count": 13,
     "metadata": {},
     "output_type": "execute_result"
    }
   ],
   "source": [
    "#try\n",
    "def attempt_float(x):\n",
    "    try:\n",
    "        return float(x)\n",
    "    except ValueError:\n",
    "        return x\n",
    "    \n",
    "attempt_float('something')\n",
    "#attempt_float((1,2))\n",
    "    "
   ]
  },
  {
   "cell_type": "code",
   "execution_count": 19,
   "metadata": {},
   "outputs": [
    {
     "data": {
      "text/plain": [
       "['# MindMapでの整理',\n",
       " 'まずは課題について考えられる全てをMindMapに書き出して整理する。このとき、どれが解決策、KPI、KDI、DO,TODOなのかといったことは気にせずに思いつくままに書き出していく。(あとからそれぞれが何にカテゴライズされるかを決めればいい)',\n",
       " '',\n",
       " '# P',\n",
       " '## ステップ1(ゴールを定量化する)',\n",
       " '### 期日を決める',\n",
       " '### KGIを設定する(定量化する)',\n",
       " '### ゴールを適度に具体的にする(1~3ヶ月程度で達成可能なものにする)',\n",
       " '',\n",
       " '## ステップ2(現実とのギャップを洗い出す)',\n",
       " '## ステップ3(ギャップを埋める課題を考える)',\n",
       " '## ステップ4(課題を優先度づけして3つに絞る)',\n",
       " '### インパクト(効果)',\n",
       " '### 時間',\n",
       " '### 気軽さ',\n",
       " '1. インパクトの最も高いものを最低でもひとつ選ぶ',\n",
       " '1. インパクトが劣っても短い時間でできそうなものがあれば選ぶ',\n",
       " '1. 同列の課題がならんでいたら、気軽さを基準にして絞り込む',\n",
       " '',\n",
       " '## ステップ5(各課題をKPI化する)',\n",
       " 'KPIを絞るときに使う基準は、できるだけ頻繁に検証でき、なおかつ成果がその数値に正確に反映されるものである。',\n",
       " '最重要KPIを定めておく(ステップ4で最もインパクトが高い課題のKPI)',\n",
       " '',\n",
       " '## ステップ6(KPIを達成する解決案を考える)',\n",
       " '## ステップ7(解決案を優先度づけする)',\n",
       " 'インパクト、時間、気軽さで優先度づけを行う',\n",
       " '1. 最重要KPIについては最低ひとつ、できれば2つ以上残す',\n",
       " '1. それ以外のKPIについてもできればインパクト重視で解決案をひとつは残す',\n",
       " '1. 短時間で終わるものについてはインパクトが弱くても残す',\n",
       " '',\n",
       " '## ステップ8(計画を見える化する)',\n",
       " '### MindMapを印刷して、目立つところに貼る',\n",
       " '### 上位PDCAを再確認する',\n",
       " '何のためにゴールを目指すのか確認する',\n",
       " '',\n",
       " '# D',\n",
       " '## ステップ1(解決案を「DO」に変換する)',\n",
       " '1. (解決案)長文問題の過去問を何回も解く',\n",
       " '    1. (DO)過去問を買う(完結型)',\n",
       " '    1. (DO)点数が上がるまで繰り返す(継続型)',\n",
       " '1. (解決案)教材音源を毎日聞く',\n",
       " '    1. (DO)音源を探す(完結型)',\n",
       " '    1. (DO)通勤途中に聞く(継続型)',\n",
       " '    1. (DO)家でずっと聞く(継続型)',\n",
       " '',\n",
       " '## ステップ2(DOに優先順位をつけ、やることを絞る)',\n",
       " '## ステップ3(DOを定量化する(「KDI」を設定する))',\n",
       " '1. (解決案)長文問題の過去問を何回も解く',\n",
       " '    1. (DO)過去問を買う(完結型)',\n",
       " '        1. (KDI)(1回)買ったか',\n",
       " '    1. (DO)点数が上がるまで繰り返す(継続型)',\n",
       " '        1. (KDI)ラップタイム達成率80%',\n",
       " '1. (解決案)教材音源を毎日聞く',\n",
       " '    1. (DO)音源を探す(完結型)',\n",
       " '        1. (KDI)(1回)ダウンロードしたか',\n",
       " '    1. (DO)通勤途中に聞く(継続型)',\n",
       " '        1. (KDI)ラップタイム達成率70%',\n",
       " '',\n",
       " '',\n",
       " '## ステップ4(DOを「TODO」に落としこむ)',\n",
       " 'DOを実行の際に迷わないレベルまで分解する(スケジュール帳に書き込めるかどうかが目安)',\n",
       " '## ステップ5(TODOの進捗確認をしながら実行に移す)',\n",
       " '検証フェーズに行く前にTODOの進捗をここで確認する。1日1回から数回できると望ましい。',\n",
       " '',\n",
       " 'TODOISTを使ってみる',\n",
       " '',\n",
       " 'タイムマネジメント',\n",
       " '1. 捨てる',\n",
       " '1. 入れ替える',\n",
       " '1. 圧縮する',\n",
       " '',\n",
       " '# C',\n",
       " 'KGI,KPI,KDIの検証を行う。上手くいっていない要因、上手くいっている要因を突き止める',\n",
       " '## ステップ1(KGIの達成率を確認する)',\n",
       " '月に1回程度',\n",
       " '## ステップ2(KPIの達成率を確認する)',\n",
       " '検証を行う頻度に合わせた評価指標を作っておく。年単位の指標を週1で確認するなら週で割っておくなど',\n",
       " '## ステップ3(KDIの達成率を確認する)',\n",
       " '結果(KPI)はコントロールできなくても、行動(KDI)はコントロールできる',\n",
       " '## ステップ4(できなかった要因を突き止める)',\n",
       " '### KDIが計画通りに推移していないとき',\n",
       " '1. 十分な時間をかけたか',\n",
       " '1. なぜ時間をかけられなかったのか',\n",
       " '1. なぜ時間をかけても未達なのか',\n",
       " '原因が特定できるまで「なぜ」を繰り返す',\n",
       " '',\n",
       " '### KPIが計画通りに推移していないとき',\n",
       " 'A. 行動が伴っていなかった(KDIが未達)',\n",
       " 'B. 行動は合っていたが不十分だった(DOの不足)',\n",
       " 'C. 想定していなかった課題があった(課題が未発見)',\n",
       " 'D. 仮設で立てた因果関係が間違っていた(KPIとKDIの連動性が取れていない)',\n",
       " '',\n",
       " '### KGIが計画通りに推移していないとき',\n",
       " '1. KGIと課題の連動が取れていない',\n",
       " '1. 課題とKPIの連動が取れていない',\n",
       " '',\n",
       " '## ステップ5(できた要因を突き止める)',\n",
       " '',\n",
       " '# A',\n",
       " '## ステップ1(検証結果を踏まえた調整案を考える)',\n",
       " '1. ゴールレベルの調整が必要なもの',\n",
       " '1. 計画の大幅な見直しが迫られるもの',\n",
       " '1. 解決案・DO・TODOレベルの調整が必要そうなもの',\n",
       " '1. 調整不要',\n",
       " '## ステップ2(調整案に優先順位をつけ、やることを絞る)',\n",
       " '## ステップ3(次のサイクルにつなげる)',\n",
       " '']"
      ]
     },
     "execution_count": 19,
     "metadata": {},
     "output_type": "execute_result"
    }
   ],
   "source": [
    "path = '../onisoku_pdca/onisoku_pdca.md'\n",
    "f = open(path)\n",
    "f.close()\n",
    "\n",
    "lines = [x.rstrip() for x in open(path)]\n",
    "lines"
   ]
  },
  {
   "cell_type": "code",
   "execution_count": 22,
   "metadata": {},
   "outputs": [],
   "source": [
    "with open(path) as f :\n",
    "    lines = [x.rstrip() for x in f]\n",
    "    \n",
    "line"
   ]
  },
  {
   "cell_type": "code",
   "execution_count": 26,
   "metadata": {},
   "outputs": [
    {
     "data": {
      "text/plain": [
       "12"
      ]
     },
     "execution_count": 26,
     "metadata": {},
     "output_type": "execute_result"
    }
   ],
   "source": [
    "f = open(path)\n",
    "f.read(10)\n",
    "\n",
    "f2 = open(path, 'rb')\n",
    "f2.read(10)\n",
    "\n",
    "f.tell()\n"
   ]
  },
  {
   "cell_type": "code",
   "execution_count": 29,
   "metadata": {},
   "outputs": [
    {
     "data": {
      "text/plain": [
       "'utf-8'"
      ]
     },
     "execution_count": 29,
     "metadata": {},
     "output_type": "execute_result"
    }
   ],
   "source": [
    "import sys\n",
    "sys.getdefaultencoding()"
   ]
  },
  {
   "cell_type": "code",
   "execution_count": 33,
   "metadata": {},
   "outputs": [
    {
     "data": {
      "text/plain": [
       "'indMapでの整理'"
      ]
     },
     "execution_count": 33,
     "metadata": {},
     "output_type": "execute_result"
    }
   ],
   "source": [
    "f.seek(3)\n",
    "f.read(10)"
   ]
  },
  {
   "cell_type": "code",
   "execution_count": 34,
   "metadata": {
    "collapsed": true
   },
   "outputs": [],
   "source": [
    "f.close()\n",
    "f2.close()"
   ]
  },
  {
   "cell_type": "code",
   "execution_count": 38,
   "metadata": {},
   "outputs": [
    {
     "ename": "UnicodeDecodeError",
     "evalue": "'utf-8' codec can't decode byte 0xc3 in position 3: unexpected end of data",
     "output_type": "error",
     "traceback": [
      "\u001b[0;31m------------------------------------------------------------------\u001b[0m",
      "\u001b[0;31mUnicodeDecodeError\u001b[0m               Traceback (most recent call last)",
      "\u001b[0;32m<ipython-input-38-9ba43924814d>\u001b[0m in \u001b[0;36m<module>\u001b[0;34m()\u001b[0m\n\u001b[1;32m      3\u001b[0m     \u001b[0mdata\u001b[0m \u001b[0;34m=\u001b[0m \u001b[0mf\u001b[0m\u001b[0;34m.\u001b[0m\u001b[0mread\u001b[0m\u001b[0;34m(\u001b[0m\u001b[0;36m10\u001b[0m\u001b[0;34m)\u001b[0m\u001b[0;34m\u001b[0m\u001b[0m\n\u001b[1;32m      4\u001b[0m \u001b[0mdata\u001b[0m\u001b[0;34m.\u001b[0m\u001b[0mdecode\u001b[0m\u001b[0;34m(\u001b[0m\u001b[0;34m'utf8'\u001b[0m\u001b[0;34m)\u001b[0m\u001b[0;34m\u001b[0m\u001b[0m\n\u001b[0;32m----> 5\u001b[0;31m \u001b[0mdata\u001b[0m\u001b[0;34m[\u001b[0m\u001b[0;34m:\u001b[0m\u001b[0;36m4\u001b[0m\u001b[0;34m]\u001b[0m\u001b[0;34m.\u001b[0m\u001b[0mdecode\u001b[0m\u001b[0;34m(\u001b[0m\u001b[0;34m'utf8'\u001b[0m\u001b[0;34m)\u001b[0m\u001b[0;34m\u001b[0m\u001b[0m\n\u001b[0m",
      "\u001b[0;31mUnicodeDecodeError\u001b[0m: 'utf-8' codec can't decode byte 0xc3 in position 3: unexpected end of data"
     ]
    }
   ],
   "source": [
    "path = './pydata-book/examples/segismundo.txt'\n",
    "with open(path, 'rb') as f:\n",
    "    data = f.read(10)\n",
    "data.decode('utf8')\n",
    "data[:4].decode('utf8')"
   ]
  },
  {
   "cell_type": "code",
   "execution_count": 39,
   "metadata": {},
   "outputs": [
    {
     "name": "stdout",
     "output_type": "stream",
     "text": [
      "Sueña el r\n"
     ]
    }
   ],
   "source": [
    "sink_path = './pydata-book/examples/sink.txt'\n",
    "with open(path) as source:\n",
    "    with open(sink_path,'xt',encoding='iso-8859-1') as sink:\n",
    "        sink.write(source.read())\n",
    "        \n",
    "with open(sink_path,encoding='iso-8859-1') as f:\n",
    "    print(f.read(10))"
   ]
  }
 ],
 "metadata": {
  "kernelspec": {
   "display_name": "Python 3",
   "language": "python",
   "name": "python3"
  },
  "language_info": {
   "codemirror_mode": {
    "name": "ipython",
    "version": 3
   },
   "file_extension": ".py",
   "mimetype": "text/x-python",
   "name": "python",
   "nbconvert_exporter": "python",
   "pygments_lexer": "ipython3",
   "version": "3.6.3"
  }
 },
 "nbformat": 4,
 "nbformat_minor": 2
}
